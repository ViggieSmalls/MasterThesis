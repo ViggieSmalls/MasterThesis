{
 "cells": [
  {
   "cell_type": "markdown",
   "metadata": {},
   "source": [
    "# 1D CTF"
   ]
  },
  {
   "cell_type": "code",
   "execution_count": 1,
   "metadata": {
    "collapsed": true
   },
   "outputs": [],
   "source": [
    "%matplotlib inline\n",
    "import numpy as np\n",
    "np.seterr(divide='ignore', invalid='ignore')  # disable divide by zero warnings\n",
    "import matplotlib.pyplot as plt\n",
    "from ipywidgets import widgets  # interactive slider"
   ]
  },
  {
   "cell_type": "code",
   "execution_count": 2,
   "metadata": {
    "collapsed": true
   },
   "outputs": [],
   "source": [
    "ONE_METER = 1\n",
    "ONE_MILLIMETER = ONE_METER*1e-3\n",
    "ONE_NANOMETER = ONE_METER*1e-9\n",
    "ONE_ANGSTROM = ONE_METER*1e-10"
   ]
  },
  {
   "cell_type": "markdown",
   "metadata": {},
   "source": [
    "* The wavelength of the electron at 300 keV is 0.001968 nm\n",
    "* The spherical aberration is 2.62 mm\n",
    "* Pixel size is 1 A/pix"
   ]
  },
  {
   "cell_type": "code",
   "execution_count": 3,
   "metadata": {
    "collapsed": true
   },
   "outputs": [],
   "source": [
    "def electron_wavelength(acc_volt):\n",
    "    \"\"\"\n",
    "    :param acc_volt: acceleration voltage (unit: volt)\n",
    "    :return: electron wavelength (unit: meters)\n",
    "    \"\"\"\n",
    "    c = 299792458.0  # m/s\n",
    "    h = 6.626068e-34  # kg*m²/s\n",
    "    m = 9.10938356e-31  # kg\n",
    "    e = 1.60217646e-19  # C\n",
    "    return np.sqrt(h*h * c*c / (e*acc_volt * (2*m*c*c + e*acc_volt)))"
   ]
  },
  {
   "cell_type": "code",
   "execution_count": 4,
   "metadata": {
    "collapsed": true
   },
   "outputs": [],
   "source": [
    "def scherzer_defocus(cs, wavelength):\n",
    "    \"\"\"\n",
    "    :param wavelength: wavelength of the electron wave (unit: meter)\n",
    "    :param cs: spherical aberration of the objective lens (unit: meter)\n",
    "    :return: scherzer defocus (unit: meter)\n",
    "    \"\"\"\n",
    "    return 1.2 * np.power(cs * wavelength, 0.5)"
   ]
  },
  {
   "cell_type": "code",
   "execution_count": 5,
   "metadata": {
    "collapsed": true
   },
   "outputs": [],
   "source": [
    "def chi(u, wavelength, cs, defocus):\n",
    "    \"\"\"\n",
    "    :param u: spacial frequency (unit: 1/nm)\n",
    "    :param wavelength: wavelength of the electron wave (unit: meter)\n",
    "    :param cs: spherical aberration of the objective lens (unit: meter)\n",
    "    :param defocus: positive values means underfocus, negative values mean overfocus (unit: meter)\n",
    "    :return: wave aberration function\n",
    "    \"\"\"\n",
    "    a = np.pi * wavelength * defocus\n",
    "    b = 0.5 * np.pi * cs * np.power(wavelength, 3)\n",
    "    return - a*np.power(u,2) + b*np.power(u,4)"
   ]
  },
  {
   "cell_type": "code",
   "execution_count": 6,
   "metadata": {
    "collapsed": true
   },
   "outputs": [],
   "source": [
    "# Microscope parameters\n",
    "wavelength = electron_wavelength(300e3)\n",
    "cs = 2.62 * 1e-3  # m\n",
    "pixel_size = 1 * 1e-10  # m"
   ]
  },
  {
   "cell_type": "code",
   "execution_count": 7,
   "metadata": {},
   "outputs": [
    {
     "data": {
      "application/vnd.jupyter.widget-view+json": {
       "model_id": "52d503045530489f9da22ecf616c9ecb",
       "version_major": 2,
       "version_minor": 0
      },
      "text/plain": [
       "A Jupyter Widget"
      ]
     },
     "metadata": {},
     "output_type": "display_data"
    }
   ],
   "source": [
    "@widgets.interact(defocus=(-2000,2000,10))\n",
    "def plot_ctf(defocus=scherzer_defocus(cs, wavelength)*1e9):\n",
    "    \n",
    "    # Calculate the CTF\n",
    "    n_samples = 500\n",
    "    frequencies = np.fft.fftfreq(n_samples, d=1)\n",
    "    frequencies = frequencies[:n_samples//2]  # select only positive values\n",
    "    spatial_freq = frequencies / pixel_size\n",
    "    defocus = defocus * 1e-9  # convert to meter\n",
    "    ctf = np.sin(chi(spatial_freq, wavelength, cs, defocus))\n",
    "    \n",
    "    # Plot \n",
    "    fig, ax = plt.subplots()\n",
    "    ax.plot(frequencies*2, ctf, label='CTF')\n",
    "    legend = ax.legend(loc='best', shadow=True)\n",
    "    plt.xlabel(\"Fraction of nyquist\")"
   ]
  },
  {
   "cell_type": "markdown",
   "metadata": {},
   "source": [
    "## Phase plate"
   ]
  },
  {
   "cell_type": "markdown",
   "metadata": {},
   "source": [
    "#### Constant phase shift"
   ]
  },
  {
   "cell_type": "markdown",
   "metadata": {},
   "source": [
    "The simples way to model the phase shift is to add a constant phase shift to the spherical aberration function. "
   ]
  },
  {
   "cell_type": "code",
   "execution_count": 8,
   "metadata": {
    "collapsed": true
   },
   "outputs": [],
   "source": [
    "# Microscope parameters\n",
    "wavelength = electron_wavelength(300e3)\n",
    "cs = 2.62 * 1e-3  # m\n",
    "pixel_size = 1 * 1e-10  # m"
   ]
  },
  {
   "cell_type": "code",
   "execution_count": 9,
   "metadata": {
    "scrolled": true
   },
   "outputs": [
    {
     "data": {
      "application/vnd.jupyter.widget-view+json": {
       "model_id": "a82eae3fa2cc4931b7f707d37acded22",
       "version_major": 2,
       "version_minor": 0
      },
      "text/plain": [
       "A Jupyter Widget"
      ]
     },
     "metadata": {},
     "output_type": "display_data"
    }
   ],
   "source": [
    "@widgets.interact(defocus=(-2000,2000,10), phi=(0,2,0.1))\n",
    "def plot_ctf(defocus=scherzer_defocus(cs, wavelength)*1e9, phi=0):\n",
    "    \n",
    "    # CTF with phase shift\n",
    "    n_samples = 500\n",
    "    frequencies = np.fft.fftfreq(n_samples, d=1)\n",
    "    frequencies = frequencies[:n_samples//2]  # select only positive values\n",
    "    spatial_freq = frequencies / pixel_size\n",
    "    defocus = defocus * 1e-9  # convert to meter\n",
    "    phase_shift = phi * np.pi\n",
    "    ctf = np.sin(chi(spatial_freq, wavelength, cs, defocus) + phase_shift)\n",
    "\n",
    "    # Plot\n",
    "    fig, ax = plt.subplots()\n",
    "    ax.plot(frequencies*2, ctf, label='CTF')\n",
    "    legend = ax.legend(loc='best', shadow=True)\n",
    "    plt.xlabel(\"Fraction of nyquist\")"
   ]
  },
  {
   "cell_type": "markdown",
   "metadata": {},
   "source": [
    "#### The phase shift is dependent on the spot size [[1](https://elifesciences.org/articles/23006#fig2)]"
   ]
  },
  {
   "cell_type": "markdown",
   "metadata": {},
   "source": [
    "The Volta phase plate is not an ideal phase plate, so the phase shift added to the frequencies is not constant, but frequency dependent."
   ]
  },
  {
   "cell_type": "markdown",
   "metadata": {},
   "source": [
    "\"Factors such as specimen charging, specimen thickness and beam drift could cause the central beam to change its shape or move on the phase plate and thus modify the central spot. We approximated the central spot of the VPP with a Gaussian function which has only one parameter - the size of the spot.\""
   ]
  },
  {
   "cell_type": "code",
   "execution_count": 10,
   "metadata": {
    "collapsed": true
   },
   "outputs": [],
   "source": [
    "def gaussian(x, mu, sig):\n",
    "    return np.exp(-np.power(x-mu, 2.) / (2 * np.power(sig, 2.)))"
   ]
  },
  {
   "cell_type": "code",
   "execution_count": 11,
   "metadata": {},
   "outputs": [
    {
     "data": {
      "application/vnd.jupyter.widget-view+json": {
       "model_id": "607b7461a3bd4c029356a036407e6a90",
       "version_major": 2,
       "version_minor": 0
      },
      "text/plain": [
       "A Jupyter Widget"
      ]
     },
     "metadata": {},
     "output_type": "display_data"
    }
   ],
   "source": [
    "@widgets.interact(phase_shift=(0,2,0.1), spot_size=(0,0.5,0.01))\n",
    "def plot_phase_shift(phi=0.5, spot_size=0.05):\n",
    "    \n",
    "    # Calculate frequency dependent phase shift\n",
    "    n_samples = 500\n",
    "    frequencies = np.fft.fftfreq(n_samples, d=1)\n",
    "    frequencies = frequencies[:n_samples//2]  # select only positive values\n",
    "    spatial_freq = frequencies / pixel_size\n",
    "    spot_size = spot_size * (1/ONE_NANOMETER)\n",
    "    phase_shift = phi * (1 - gaussian(spatial_freq, mu=0, sig=spot_size))\n",
    "    \n",
    "    # Plot\n",
    "    fig, ax = plt.subplots()\n",
    "    ax.plot(frequencies*2, phase_shift, label='Phase shift')\n",
    "    legend = ax.legend(loc='best', shadow=True)\n",
    "    plt.xlabel(\"Fraction of nyquist\")\n",
    "    plt.ylabel(r\"Phase shift ($\\pi$)\")\n",
    "    plt.ylim(-0.1,2)"
   ]
  },
  {
   "cell_type": "code",
   "execution_count": 12,
   "metadata": {},
   "outputs": [
    {
     "data": {
      "application/vnd.jupyter.widget-view+json": {
       "model_id": "8087d7d9990c42b7a1c62e0af5b075ed",
       "version_major": 2,
       "version_minor": 0
      },
      "text/plain": [
       "A Jupyter Widget"
      ]
     },
     "metadata": {},
     "output_type": "display_data"
    }
   ],
   "source": [
    "@widgets.interact(defocus=(-2000,2000,10), phase_shift=(0,2,0.1), spot_size=(0,0.5,0.01))\n",
    "def plot_ctf_with_phase_shift(defocus=500, phi=0.5, spot_size=0.05):\n",
    "    \n",
    "    # Calculate CTF with phase shift\n",
    "    n_samples = 500\n",
    "    frequencies = np.fft.fftfreq(n_samples, d=1)\n",
    "    frequencies = frequencies[:n_samples//2]  # select only positive values\n",
    "    spatial_freq = frequencies / pixel_size\n",
    "    defocus = defocus * 1e-9  # convert to meter\n",
    "    spot_size = spot_size * (1/ONE_NANOMETER)\n",
    "    phase_shift = phi * np.pi * (1 - gaussian(spatial_freq, mu=0, sig=spot_size))\n",
    "    ctf = np.sin(chi(spatial_freq, wavelength, cs, defocus) + phase_shift)\n",
    "    \n",
    "    # Plot\n",
    "    fig, ax = plt.subplots()\n",
    "    ax.plot(frequencies*2, ctf, label='CTF')\n",
    "    legend = ax.legend(loc='lower right', shadow=True)\n",
    "    plt.xlabel(\"Fraction of nyquist\")"
   ]
  },
  {
   "cell_type": "code",
   "execution_count": 13,
   "metadata": {
    "collapsed": true
   },
   "outputs": [],
   "source": [
    "def ctf_with_phase_plate(freq, phi, spot_size, defocus, cs=2.62e-3):\n",
    "    \"\"\"\n",
    "    :param freq: spacial frequency (unit: 1/nm)\n",
    "    :param phi: phase shift in fraction of pi\n",
    "    :param spot_size: size of the phase plate spot in reciprocal space (unit: 1/nm)\n",
    "    :param defocus: positive values means underfocus, negative values mean overfocus (unit: nanometer)\n",
    "    :return: ctf with frequency dependent phase shift\n",
    "    \"\"\"\n",
    "    ONE_METER = 1\n",
    "    ONE_NANOMETER = ONE_METER*1e-9\n",
    "    spot_size = spot_size * (1/ONE_NANOMETER)\n",
    "    phase_shift = phi * np.pi * (1 - gaussian(freq, mu=0, sig=spot_size))\n",
    "    ctf = np.sin(chi(freq, wavelength, cs, defocus) + phase_shift)\n",
    "    return ctf"
   ]
  },
  {
   "cell_type": "code",
   "execution_count": 14,
   "metadata": {},
   "outputs": [
    {
     "data": {
      "application/vnd.jupyter.widget-view+json": {
       "model_id": "d2bf44e134b3467f9cedffc6877b4e5d",
       "version_major": 2,
       "version_minor": 0
      },
      "text/plain": [
       "A Jupyter Widget"
      ]
     },
     "metadata": {},
     "output_type": "display_data"
    }
   ],
   "source": [
    "@widgets.interact(defocus=(-2000,2000,10), phase_shift=(0,2,0.1), spot_size=(0,0.5,0.01))\n",
    "def plot_ctf_with_phase_shift(defocus=500, phi=0.5, spot_size=0.05):\n",
    "    \n",
    "    # Calculate CTF with phase shift\n",
    "    n_samples = 500\n",
    "    frequencies = np.fft.fftfreq(n_samples, d=1)\n",
    "    frequencies = frequencies[:n_samples//2]  # select only positive values\n",
    "    spatial_freq = frequencies / pixel_size\n",
    "    defocus = defocus * 1e-9  # convert to meter\n",
    "\n",
    "    ctf = ctf_with_phase_plate(spatial_freq, phi, spot_size, defocus)\n",
    "    \n",
    "    # Plot\n",
    "    fig, ax = plt.subplots()\n",
    "    ax.plot(frequencies*2, ctf, label='CTF')\n",
    "    legend = ax.legend(loc='lower right', shadow=True)\n",
    "    plt.xlabel(\"Fraction of nyquist\")"
   ]
  },
  {
   "cell_type": "markdown",
   "metadata": {},
   "source": [
    "# 2D CTF"
   ]
  },
  {
   "cell_type": "markdown",
   "metadata": {},
   "source": [
    "#### Basic image parameters"
   ]
  },
  {
   "cell_type": "code",
   "execution_count": 15,
   "metadata": {
    "collapsed": true
   },
   "outputs": [],
   "source": [
    "m,n = image_dimensions = (1000,1000)\n",
    "pixel_size = 1e-10"
   ]
  },
  {
   "cell_type": "code",
   "execution_count": 16,
   "metadata": {},
   "outputs": [
    {
     "data": {
      "application/vnd.jupyter.widget-view+json": {
       "model_id": "ecaca56c87a44a77b47fa3180402b20b",
       "version_major": 2,
       "version_minor": 0
      },
      "text/plain": [
       "A Jupyter Widget"
      ]
     },
     "metadata": {},
     "output_type": "display_data"
    }
   ],
   "source": [
    "@widgets.interact(defocus=(-2000,2000,10), phi=(0,2,0.1), spot_size=(0,0.5,0.01))\n",
    "def plot_2d_ctf(defocus=500, phi=0.5, spot_size=0.05):\n",
    "    \n",
    "    # Calculate CTF\n",
    "    x = np.fft.fftfreq(m, d=1)\n",
    "    y = np.fft.fftfreq(n, d=1)\n",
    "    X, Y = np.meshgrid(x, y, indexing='ij')\n",
    "    freq_2d = np.sqrt(X**2 + Y**2)\n",
    "    spatial_freq = freq_2d / pixel_size\n",
    "    defocus = defocus * 1e-9  # convert to meter\n",
    "    ctf = ctf_with_phase_plate(spatial_freq, phi, spot_size, defocus)\n",
    "    \n",
    "    # Plot\n",
    "    plt.figure(figsize=(8,5))\n",
    "    plt.imshow(np.fft.fftshift(ctf), cmap = 'gray')"
   ]
  },
  {
   "cell_type": "markdown",
   "metadata": {},
   "source": [
    "# CTFy Image "
   ]
  },
  {
   "cell_type": "code",
   "execution_count": 17,
   "metadata": {
    "collapsed": true
   },
   "outputs": [],
   "source": [
    "from scipy import misc\n",
    "from PIL import Image "
   ]
  },
  {
   "cell_type": "markdown",
   "metadata": {},
   "source": [
    "#### Specify the path to the image file"
   ]
  },
  {
   "cell_type": "code",
   "execution_count": 18,
   "metadata": {
    "collapsed": true
   },
   "outputs": [],
   "source": [
    "image_file_path = \"my_image.png\""
   ]
  },
  {
   "cell_type": "markdown",
   "metadata": {},
   "source": [
    "#### Open the image as an array and convert it to grayscale"
   ]
  },
  {
   "cell_type": "code",
   "execution_count": 23,
   "metadata": {},
   "outputs": [
    {
     "data": {
      "text/plain": [
       "<matplotlib.image.AxesImage at 0x7f8c70e602b0>"
      ]
     },
     "execution_count": 23,
     "metadata": {},
     "output_type": "execute_result"
    },
    {
     "data": {
      "image/png": "[encoded data removed]",
      "text/plain": [
       "<matplotlib.figure.Figure at 0x7f8c71ca1e48>"
      ]
     },
     "metadata": {},
     "output_type": "display_data"
    }
   ],
   "source": [
    "image = Image.open(image_file_path) # open colour image\n",
    "image_bw = image.convert('L') # convert to greyscale\n",
    "image_array = np.array(image_bw)\n",
    "plt.imshow(image_array, cmap='gray')"
   ]
  },
  {
   "cell_type": "markdown",
   "metadata": {},
   "source": [
    "#### Specify an arbitrary pixel size of the image"
   ]
  },
  {
   "cell_type": "code",
   "execution_count": 24,
   "metadata": {
    "collapsed": true
   },
   "outputs": [],
   "source": [
    "pixel_size_image = 3*1e-10"
   ]
  },
  {
   "cell_type": "markdown",
   "metadata": {},
   "source": [
    "#### Fourier transform the image"
   ]
  },
  {
   "cell_type": "code",
   "execution_count": 25,
   "metadata": {
    "collapsed": true
   },
   "outputs": [],
   "source": [
    "ft_image = np.fft.fft2(image_array)"
   ]
  },
  {
   "cell_type": "markdown",
   "metadata": {},
   "source": [
    "#### Apply defocus and phase shift on an image [[2](http://www.sciencedirect.com/science/article/pii/S0959440X1730043X?via%3Dihub)]"
   ]
  },
  {
   "cell_type": "code",
   "execution_count": 26,
   "metadata": {},
   "outputs": [
    {
     "data": {
      "application/vnd.jupyter.widget-view+json": {
       "model_id": "88fa8dd0c87648d99c08e57741af33b7",
       "version_major": 2,
       "version_minor": 0
      },
      "text/plain": [
       "A Jupyter Widget"
      ]
     },
     "metadata": {},
     "output_type": "display_data"
    }
   ],
   "source": [
    "@widgets.interact(defocus=(-2000,2000,10), phase_shift=(0,2,0.1), spot_size=(0,0.5,0.01), continuous_update=False)\n",
    "def plot_ctfyed_image(defocus=80, phase_shift=0, spot_size=0.05):\n",
    "    \n",
    "    m,n = image_array.shape\n",
    "    x = np.fft.fftfreq(m, d=1)\n",
    "    y = np.fft.fftfreq(n, d=1)\n",
    "    X, Y = np.meshgrid(x, y, indexing='ij')\n",
    "    frequencies = np.sqrt(X**2 + Y**2)\n",
    "    spatial_freq = frequencies / pixel_size_image\n",
    "    defocus = defocus * 1e-9  # convert to meter\n",
    "    \n",
    "    # Calculate CTF\n",
    "    ctf = ctf_with_phase_plate(spatial_freq, phase_shift, spot_size, defocus)\n",
    "    \n",
    "    # Apply CTF on Image\n",
    "    ctf_ft_image = ft_image * ctf\n",
    "    ctf_ft_image[0,0] = ft_image[0,0]  # don't shift the dc component\n",
    "    ctfyed_image = np.fft.ifft2(ctf_ft_image)\n",
    "    \n",
    "    # Plot\n",
    "    plt.figure(figsize=(16,10))\n",
    "    plt.subplot(131)\n",
    "    plt.imshow(image_array, cmap = 'gray')\n",
    "    plt.subplot(132)\n",
    "    plt.imshow(ctfyed_image.real, cmap = 'gray')\n",
    "    plt.subplot(133)\n",
    "    plt.imshow(np.fft.fftshift(ctf), cmap = 'gray')"
   ]
  },
  {
   "cell_type": "code",
   "execution_count": null,
   "metadata": {
    "collapsed": true
   },
   "outputs": [],
   "source": []
  }
 ],
 "metadata": {
  "kernelspec": {
   "display_name": "Python 3",
   "language": "python",
   "name": "python3"
  },
  "language_info": {
   "codemirror_mode": {
    "name": "ipython",
    "version": 3
   },
   "file_extension": ".py",
   "mimetype": "text/x-python",
   "name": "python",
   "nbconvert_exporter": "python",
   "pygments_lexer": "ipython3",
   "version": "3.6.3"
  }
 },
 "nbformat": 4,
 "nbformat_minor": 2
}
